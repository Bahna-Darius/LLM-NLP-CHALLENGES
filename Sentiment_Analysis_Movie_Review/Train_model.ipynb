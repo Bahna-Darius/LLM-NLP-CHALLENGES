{
 "cells": [
  {
   "metadata": {},
   "cell_type": "markdown",
   "source": "# Import Libraries",
   "id": "b830d6a44b3eb722"
  },
  {
   "cell_type": "code",
   "id": "initial_id",
   "metadata": {
    "collapsed": true,
    "ExecuteTime": {
     "end_time": "2025-03-26T17:47:16.953686Z",
     "start_time": "2025-03-26T17:47:09.600115Z"
    }
   },
   "source": [
    "from datasets import load_dataset\n",
    "from transformers import AutoTokenizer"
   ],
   "outputs": [],
   "execution_count": 23
  },
  {
   "metadata": {},
   "cell_type": "markdown",
   "source": "# Load the Data",
   "id": "92ac522e186c23f0"
  },
  {
   "metadata": {
    "ExecuteTime": {
     "end_time": "2025-03-26T17:33:10.737213Z",
     "start_time": "2025-03-26T17:32:59.791773Z"
    }
   },
   "cell_type": "code",
   "source": [
    "data = load_dataset(\"imdb\")\n",
    "data[\"train\"][1]       # label 0 is negativ review"
   ],
   "id": "3c0ee69ba1c2c465",
   "outputs": [
    {
     "data": {
      "text/plain": [
       "{'text': '\"I Am Curious: Yellow\" is a risible and pretentious steaming pile. It doesn\\'t matter what one\\'s political views are because this film can hardly be taken seriously on any level. As for the claim that frontal male nudity is an automatic NC-17, that isn\\'t true. I\\'ve seen R-rated films with male nudity. Granted, they only offer some fleeting views, but where are the R-rated films with gaping vulvas and flapping labia? Nowhere, because they don\\'t exist. The same goes for those crappy cable shows: schlongs swinging in the breeze but not a clitoris in sight. And those pretentious indie movies like The Brown Bunny, in which we\\'re treated to the site of Vincent Gallo\\'s throbbing johnson, but not a trace of pink visible on Chloe Sevigny. Before crying (or implying) \"double-standard\" in matters of nudity, the mentally obtuse should take into account one unavoidably obvious anatomical difference between men and women: there are no genitals on display when actresses appears nude, and the same cannot be said for a man. In fact, you generally won\\'t see female genitals in an American film in anything short of porn or explicit erotica. This alleged double-standard is less a double standard than an admittedly depressing ability to come to terms culturally with the insides of women\\'s bodies.',\n",
       " 'label': 0}"
      ]
     },
     "execution_count": 19,
     "metadata": {},
     "output_type": "execute_result"
    }
   ],
   "execution_count": 19
  },
  {
   "metadata": {},
   "cell_type": "markdown",
   "source": "# Tokenization Data",
   "id": "d66f33315e7f1e38"
  },
  {
   "metadata": {
    "ExecuteTime": {
     "end_time": "2025-03-26T19:09:59.612363Z",
     "start_time": "2025-03-26T19:09:17.999486Z"
    }
   },
   "cell_type": "code",
   "source": [
    "model_select = \"distilbert-base-uncased\"\n",
    "tokenizer = AutoTokenizer.from_pretrained(pretrained_model_name_or_path=model_select)      #OBJ Token (DistilBertTokenizerFast)\n",
    "\n",
    "def tokenize_data(batch):\n",
    "    tokenized_batch = tokenizer(batch[\"text\"], padding=True, truncation=True)\n",
    "    return tokenized_batch\n",
    "\n",
    "tokenized_data_final = data.map(function=tokenize_data, batched=True, batch_size=None)"
   ],
   "id": "ded58af485bf85bc",
   "outputs": [
    {
     "data": {
      "text/plain": [
       "Map:   0%|          | 0/50000 [00:00<?, ? examples/s]"
      ],
      "application/vnd.jupyter.widget-view+json": {
       "version_major": 2,
       "version_minor": 0,
       "model_id": "6602ecc0eeee4927bcc4358e4aa1b074"
      }
     },
     "metadata": {},
     "output_type": "display_data"
    }
   ],
   "execution_count": 30
  },
  {
   "metadata": {},
   "cell_type": "markdown",
   "source": "# Transform data into tokens then tokens into data (label2id, id2label)",
   "id": "380551871093a989"
  },
  {
   "metadata": {
    "ExecuteTime": {
     "end_time": "2025-03-26T17:33:45.215615Z",
     "start_time": "2025-03-26T17:33:45.211940Z"
    }
   },
   "cell_type": "code",
   "source": "",
   "id": "cabfe7c3bec35cff",
   "outputs": [],
   "execution_count": null
  },
  {
   "metadata": {
    "ExecuteTime": {
     "end_time": "2025-03-26T17:32:43.754014Z",
     "start_time": "2025-03-26T17:32:43.750507Z"
    }
   },
   "cell_type": "code",
   "source": "",
   "id": "1de94712eb620cac",
   "outputs": [],
   "execution_count": null
  },
  {
   "metadata": {},
   "cell_type": "code",
   "outputs": [],
   "execution_count": null,
   "source": "",
   "id": "da9fe5182bf38648"
  }
 ],
 "metadata": {
  "kernelspec": {
   "display_name": "Python 3",
   "language": "python",
   "name": "python3"
  },
  "language_info": {
   "codemirror_mode": {
    "name": "ipython",
    "version": 2
   },
   "file_extension": ".py",
   "mimetype": "text/x-python",
   "name": "python",
   "nbconvert_exporter": "python",
   "pygments_lexer": "ipython2",
   "version": "2.7.6"
  }
 },
 "nbformat": 4,
 "nbformat_minor": 5
}
